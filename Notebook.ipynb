{
 "cells": [
  {
   "cell_type": "code",
   "execution_count": null,
   "id": "1a0b9dd8-9e48-4ab3-86ba-7182f2a9d218",
   "metadata": {},
   "outputs": [],
   "source": [
    "# Brain Tumor Recognition"
   ]
  },
  {
   "cell_type": "markdown",
   "id": "2b41e4b1-7eff-4b27-8dc0-4e06045a39d0",
   "metadata": {},
   "source": [
    "# Vorgehen\n",
    "1. Data preprocessing\n",
    "2. Convulutional NN aufbauen\n",
    "3. CNN trainieren\n",
    "4. Analysieren\n",
    "5. Falls möglich: Dense Network anhängen"
   ]
  },
  {
   "cell_type": "markdown",
   "id": "da978f07-d78e-4c56-8668-10c50b6e8d07",
   "metadata": {},
   "source": [
    "# Data Preprocessing"
   ]
  },
  {
   "cell_type": "code",
   "execution_count": 34,
   "id": "722c4a99-5d79-4690-a07d-776c54569587",
   "metadata": {},
   "outputs": [
    {
     "name": "stdout",
     "output_type": "stream",
     "text": [
      "Verwendeter Basisordner: C:\\Users\\leoni\\Documents\\HSLU\\5. Semester\\AI Einzelarbeit\\Daten\n",
      "Überprüfe Ordner: C:\\Users\\leoni\\Documents\\HSLU\\5. Semester\\AI Einzelarbeit\\Daten\\Training\n",
      "Verzeichnis nicht gefunden: C:\\Users\\leoni\\Documents\\HSLU\\5. Semester\\AI Einzelarbeit\\Daten\\Training\n",
      "Überprüfe Ordner: C:\\Users\\leoni\\Documents\\HSLU\\5. Semester\\AI Einzelarbeit\\Daten\\Testing\n",
      "Verzeichnis nicht gefunden: C:\\Users\\leoni\\Documents\\HSLU\\5. Semester\\AI Einzelarbeit\\Daten\\Testing\n",
      "Anzahl der gefundenen Bilder: 0\n",
      "Keine Bilder gefunden!\n"
     ]
    }
   ],
   "source": [
    "import os\n",
    "import pandas as pd\n",
    "\n",
    "def label_images(base_dir):\n",
    "    label_mapping = {\"No_Tumor\": 0, \"Tumor\": 1}\n",
    "    data = []\n",
    "\n",
    "    # Verwende explizit den backslash \\, um den Basisordner zu erstellen\n",
    "    base_dir = r\"C:\\Users\\leoni\\Documents\\HSLU\\5. Semester\\AI Einzelarbeit\\Daten\"\n",
    "    print(f\"Verwendeter Basisordner: {base_dir}\")\n",
    "\n",
    "    for split in [\"Training\", \"Testing\"]:\n",
    "        split_path = base_dir + '\\\\' + split  # Explizit den backslash verwenden\n",
    "        print(f\"Überprüfe Ordner: {split_path}\")\n",
    "\n",
    "        # Überprüfen, ob das Verzeichnis existiert\n",
    "        if not os.path.exists(split_path):\n",
    "            print(f\"Verzeichnis nicht gefunden: {split_path}\")\n",
    "            continue\n",
    "\n",
    "        for label_name, label_value in label_mapping.items():\n",
    "            label_path = split_path + '\\\\' + label_name  # Auch hier explizit den backslash verwenden\n",
    "            print(f\"Überprüfe Unterordner: {label_path}\")\n",
    "\n",
    "            # Überprüfen, ob der Unterordner existiert\n",
    "            if not os.path.exists(label_path):\n",
    "                print(f\"Unterordner nicht gefunden: {label_path}\")\n",
    "                continue\n",
    "\n",
    "            # Dateien im Unterordner durchgehen\n",
    "            for file_name in os.listdir(label_path):\n",
    "                if file_name.endswith((\".png\", \".jpg\", \".jpeg\")):\n",
    "                    file_path = label_path + '\\\\' + file_name  # Explizit backslash verwenden\n",
    "                    print(f\"Gefunden: {file_path} -> Label: {label_value}\")\n",
    "                    data.append({\"file_path\": file_path, \"label\": label_value})\n",
    "\n",
    "    df = pd.DataFrame(data)\n",
    "    return df\n",
    "\n",
    "# Pfad zum Basisordner angeben\n",
    "base_dir = r\"C:\\Users\\leoni\\Documents\\HSLU\\5. Semester\\AI Einzelarbeit\\Daten\"\n",
    "\n",
    "# Daten labeln\n",
    "df = label_images(base_dir)\n",
    "print(f\"Anzahl der gefundenen Bilder: {len(df)}\")\n",
    "if len(df) > 0:\n",
    "    print(df.head())\n",
    "else:\n",
    "    print(\"Keine Bilder gefunden!\")\n"
   ]
  },
  {
   "cell_type": "code",
   "execution_count": null,
   "id": "103c176d-9d12-4880-8390-978849a859c7",
   "metadata": {},
   "outputs": [],
   "source": []
  }
 ],
 "metadata": {
  "kernelspec": {
   "display_name": "Python 3 (ipykernel)",
   "language": "python",
   "name": "python3"
  },
  "language_info": {
   "codemirror_mode": {
    "name": "ipython",
    "version": 3
   },
   "file_extension": ".py",
   "mimetype": "text/x-python",
   "name": "python",
   "nbconvert_exporter": "python",
   "pygments_lexer": "ipython3",
   "version": "3.12.7"
  }
 },
 "nbformat": 4,
 "nbformat_minor": 5
}
