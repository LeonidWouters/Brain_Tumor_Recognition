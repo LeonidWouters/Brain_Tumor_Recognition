{
 "cells": [
  {
   "cell_type": "code",
   "execution_count": null,
   "id": "1a0b9dd8-9e48-4ab3-86ba-7182f2a9d218",
   "metadata": {},
   "outputs": [],
   "source": [
    "# Brain Tumor Recognition"
   ]
  },
  {
   "cell_type": "markdown",
   "id": "2b41e4b1-7eff-4b27-8dc0-4e06045a39d0",
   "metadata": {},
   "source": [
    "# Vorgehen\n",
    "1. Data preprocessing\n",
    "2. Convulutional NN aufbauen\n",
    "3. CNN trainieren\n",
    "4. Analysieren\n",
    "5. Falls möglich: Dense Network anhängen"
   ]
  },
  {
   "cell_type": "markdown",
   "id": "da978f07-d78e-4c56-8668-10c50b6e8d07",
   "metadata": {},
   "source": [
    "# Data Preprocessing"
   ]
  },
  {
   "cell_type": "code",
   "execution_count": null,
   "id": "188703dc-7455-459a-9496-8129f7b864f3",
   "metadata": {},
   "outputs": [],
   "source": []
  },
  {
   "cell_type": "markdown",
   "id": "a4dcfd89-81c6-45c8-8297-4aad0d072caf",
   "metadata": {},
   "source": [
    "awefsadf"
   ]
  }
 ],
 "metadata": {
  "kernelspec": {
   "display_name": "Python 3 (ipykernel)",
   "language": "python",
   "name": "python3"
  },
  "language_info": {
   "codemirror_mode": {
    "name": "ipython",
    "version": 3
   },
   "file_extension": ".py",
   "mimetype": "text/x-python",
   "name": "python",
   "nbconvert_exporter": "python",
   "pygments_lexer": "ipython3",
   "version": "3.12.7"
  }
 },
 "nbformat": 4,
 "nbformat_minor": 5
}
